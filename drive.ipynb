{
 "cells": [
  {
   "cell_type": "code",
   "execution_count": 52,
   "metadata": {},
   "outputs": [],
   "source": [
    "from drive.google_main import Google\n",
    "from drive.error import Error\n",
    "\n",
    "class file(Google):\n",
    "    def __init__(self,file_name) -> None:\n",
    "        super().__init__()\n",
    "        # puxando nome do arquivo que será substituido\n",
    "        self.__file = file_name\n",
    "        self.service = self.generate_service()\n",
    "\n",
    "    def generate_service(self):\n",
    "        #Keys para capturar pastas drive\n",
    "        SCOPES = ['https://www.googleapis.com/auth/drive.file']\n",
    "        CLIENT_SECRET_FILE = self.chromedriver\n",
    "        API_NAME = 'drive'\n",
    "        API_VERSION = 'V3'\n",
    "        return self.Create_Service(CLIENT_SECRET_FILE,API_NAME,API_VERSION,SCOPES)\n",
    "     \n",
    "    def move_file(self,\n",
    "                  folder_id=str,\n",
    "                  folder_target=str,\n",
    "                  returnblob=False):\n",
    "        '''\n",
    "        To change a file to another folder first of all we need to find you file and to do \n",
    "        this the function has differents methods:\n",
    "        \\nFind item by name -> To find an item by name, you can use the function like this:\\n\n",
    "        >>> obj = file('namefile')\n",
    "        >>> obj.move_file('name',folder_id,folder_target)\\n\n",
    "\n",
    "        The function has the method return blob, if you call this by True, the function will return the item blob in drive.\n",
    "        '''\n",
    "        self.__id = 143509\n",
    "        # checando se realmente estamos recebendo o nome str de um arquivo\n",
    "        if type(self.__file) == str:\n",
    "            # query para filtrar a pasta pai e o nome do arquivo target\n",
    "            query = f\"parents = '{folder_id}' and name = '{self.__file}'\"\n",
    "            # localizando file, pelo correto irá retornar apenas um item\n",
    "            file = self.service.files().list(q=query).execute()\n",
    "            print(file)\n",
    "            # checando se localizamos um item e não uma pasta\n",
    "            if file['files'][0]['mimeType'] == 'application/vnd.google-apps.folder':\n",
    "                # se sim enviamos a mensagem de erro\n",
    "                Error(self.__id,'folder_not_file',file['files']['mimeType'])\n",
    "                return\n",
    "            else:\n",
    "                # se não podemos seguir com a modificação\n",
    "                self.service.files().update(\n",
    "                    fileId       = file['files'][0]['id'],\n",
    "                    addParents    = folder_target,\n",
    "                    removeParents = folder_id\n",
    "                ).execute()\n",
    "            if returnblob==True:\n",
    "                return file\n",
    "\n",
    "\n",
    "    def move_files(self):\n",
    "        '''\n",
    "            more then one file -> for this method the code expect to receive a list or a dic with the itens,\\n\n",
    "                if you want to send all the itens to the same folder, you can use the function like:\\n\n",
    "                >>> objt = file([file1,file2,folder_dest])\n",
    "                >>> move_file(folder_id)\n",
    "                \\n\n",
    "                but if you want to send each item for a diferent folder, you can use the function like:\\n\n",
    "                >>> objt = file({file1:folderkey,file2:folderkey})\n",
    "                >>> move_file(folder_id)\n",
    "                \\n\n",
    "                the function expect to receive all folder keys to each item\n",
    "        '''\n",
    "        self.__id=143510\n",
    "        # proceso para lista de itens\n",
    "        if type(self.__file) == list:\n",
    "            # chechando se a lista esta correta \n",
    "            if len(self.__file)<=1:\n",
    "                Error(self.__id,\"len<1\",self.__file)\n",
    "                return\n",
    "            for file in self.__file[0:-1]:\n",
    "                query = f\"parents = '{folder_id}' and name = '{file}'\"\n",
    "                response = self.service.files().list(q=query).execute()\n",
    "                print(file)\n",
    "        # procesos para itens em diferente pastas\n",
    "        elif type(self.__file) == dict:\n",
    "            for name_item in self.__file:\n",
    "                key_dest = self.__file[name_item]\n",
    "                print(key_dest)\n",
    "# teste=file({'1197769':\"tes\",'1197768':'pá'})"
   ]
  },
  {
   "cell_type": "code",
   "execution_count": 53,
   "metadata": {},
   "outputs": [
    {
     "name": "stdout",
     "output_type": "stream",
     "text": [
      "{'kind': 'drive#fileList', 'incompleteSearch': False, 'files': []}\n",
      "{'kind': 'drive#fileList', 'incompleteSearch': False, 'files': []}\n"
     ]
    },
    {
     "ename": "IndexError",
     "evalue": "list index out of range",
     "output_type": "error",
     "traceback": [
      "\u001b[1;31m---------------------------------------------------------------------------\u001b[0m",
      "\u001b[1;31mIndexError\u001b[0m                                Traceback (most recent call last)",
      "Cell \u001b[1;32mIn[53], line 8\u001b[0m\n\u001b[0;32m      5\u001b[0m \u001b[39m# teste = file(\"1197770\")\u001b[39;00m\n\u001b[0;32m      6\u001b[0m \u001b[39m# teste.move_file(By='id','15oT4oGeFL1_AFoj53FfU781vnULb21y9','1Hu8E3_JlMhXurP5F7DuFjtNIfk64_svc',True)\u001b[39;00m\n\u001b[0;32m      7\u001b[0m teste \u001b[39m=\u001b[39m file(\u001b[39mid\u001b[39m)\n\u001b[1;32m----> 8\u001b[0m teste\u001b[39m.\u001b[39;49mmove_file(\u001b[39m'\u001b[39;49m\u001b[39mid\u001b[39;49m\u001b[39m'\u001b[39;49m,\u001b[39m'\u001b[39;49m\u001b[39m15oT4oGeFL1_AFoj53FfU781vnULb21y9\u001b[39;49m\u001b[39m'\u001b[39;49m,\u001b[39m'\u001b[39;49m\u001b[39m1Hu8E3_JlMhXurP5F7DuFjtNIfk64_svc\u001b[39;49m\u001b[39m'\u001b[39;49m,\u001b[39mTrue\u001b[39;49;00m)\n",
      "Cell \u001b[1;32mIn[52], line 50\u001b[0m, in \u001b[0;36mfile.move_file\u001b[1;34m(self, By, folder_id, folder_target, returnid)\u001b[0m\n\u001b[0;32m     48\u001b[0m \u001b[39mprint\u001b[39m(file)\n\u001b[0;32m     49\u001b[0m \u001b[39m# checando se localizamos um item e não uma pasta\u001b[39;00m\n\u001b[1;32m---> 50\u001b[0m \u001b[39mif\u001b[39;00m file[\u001b[39m'\u001b[39;49m\u001b[39mfiles\u001b[39;49m\u001b[39m'\u001b[39;49m][\u001b[39m0\u001b[39;49m][\u001b[39m'\u001b[39m\u001b[39mmimeType\u001b[39m\u001b[39m'\u001b[39m] \u001b[39m==\u001b[39m \u001b[39m'\u001b[39m\u001b[39mapplication/vnd.google-apps.folder\u001b[39m\u001b[39m'\u001b[39m:\n\u001b[0;32m     51\u001b[0m     \u001b[39m# se sim enviamos a mensagem de erro\u001b[39;00m\n\u001b[0;32m     52\u001b[0m     Error(\u001b[39mself\u001b[39m\u001b[39m.\u001b[39m__id,\u001b[39m'\u001b[39m\u001b[39mfolder_not_file\u001b[39m\u001b[39m'\u001b[39m,file[\u001b[39m'\u001b[39m\u001b[39mfiles\u001b[39m\u001b[39m'\u001b[39m][\u001b[39m'\u001b[39m\u001b[39mmimeType\u001b[39m\u001b[39m'\u001b[39m])\n\u001b[0;32m     53\u001b[0m     \u001b[39mreturn\u001b[39;00m\n",
      "\u001b[1;31mIndexError\u001b[0m: list index out of range"
     ]
    }
   ],
   "source": [
    "# teste=file('1197769')\n",
    "# teste.move_file('name','15oT4oGeFL1_AFoj53FfU781vnULb21y9','1Hu8E3_JlMhXurP5F7DuFjtNIfk64_svc')\n",
    "id='1t1rRoS_PSatzuS0OREMfddDdv8qFKFuT1HAlaWVi2oI'\n",
    "\n",
    "# teste = file(\"1197770\")\n",
    "# teste.move_file(By='id','15oT4oGeFL1_AFoj53FfU781vnULb21y9','1Hu8E3_JlMhXurP5F7DuFjtNIfk64_svc',True)\n",
    "teste = file(id)\n",
    "teste.move_file('id','15oT4oGeFL1_AFoj53FfU781vnULb21y9','1Hu8E3_JlMhXurP5F7DuFjtNIfk64_svc',True)"
   ]
  },
  {
   "cell_type": "code",
   "execution_count": null,
   "metadata": {},
   "outputs": [],
   "source": []
  }
 ],
 "metadata": {
  "kernelspec": {
   "display_name": "Python 3",
   "language": "python",
   "name": "python3"
  },
  "language_info": {
   "codemirror_mode": {
    "name": "ipython",
    "version": 3
   },
   "file_extension": ".py",
   "mimetype": "text/x-python",
   "name": "python",
   "nbconvert_exporter": "python",
   "pygments_lexer": "ipython3",
   "version": "3.10.10"
  },
  "orig_nbformat": 4
 },
 "nbformat": 4,
 "nbformat_minor": 2
}
