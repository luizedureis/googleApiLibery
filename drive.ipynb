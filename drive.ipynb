{
 "cells": [
  {
   "cell_type": "code",
   "execution_count": 1,
   "metadata": {},
   "outputs": [],
   "source": [
    "from drive.google_main import Google\n",
    "from drive.error import Error\n",
    "\n",
    "class file(Google):\n",
    "    def __init__(self,file_name) -> None:\n",
    "        super().__init__()\n",
    "        # puxando nome do arquivo que será substituido\n",
    "        self.__file = file_name\n",
    "        self.service = self.generate_service()\n",
    "\n",
    "    def generate_service(self):\n",
    "        #Keys para capturar pastas drive\n",
    "        SCOPES = ['https://www.googleapis.com/auth/drive.file']\n",
    "        CLIENT_SECRET_FILE = self.chromedriver\n",
    "        API_NAME = 'drive'\n",
    "        API_VERSION = 'V3'\n",
    "        return self.Create_Service(CLIENT_SECRET_FILE,API_NAME,API_VERSION,SCOPES)\n",
    "     \n",
    "    def move_file(self,folder_id,id=143509):\n",
    "        '''\n",
    "            more then one file -> for this method the code expect to receive a list or a dic with the itens,\\n\n",
    "                if you want to send all the itens to the same folder, you can use the function like:\\n\n",
    "                >>> objt = file([file1,file2,folder_dest])\n",
    "                >>> move_file(folder_id)\n",
    "                \\n\n",
    "                but if you want to send each item for a diferent folder, you can use the function like:\\n\n",
    "                >>> objt = file({file1:folderkey,file2:folderkey})\n",
    "                >>> move_file(folder_id)\n",
    "                \\n\n",
    "                the function expect to receive all folder keys to each item\n",
    "        '''\n",
    "        # proceso para lista de itens\n",
    "        if type(self.__file) == list:\n",
    "            \n",
    "            # chechando se a lista esta correta \n",
    "            if len(self.__file)<=1:\n",
    "                Error(id,\"len<1\",self.__file)\n",
    "                return\n",
    "            key_dest = \n",
    "            for file in self.__file[0:-1]:\n",
    "                query = f\"parents = '{folder_id}' and name = '{file}'\"\n",
    "                response = self.service.files().list(q=query).execute()\n",
    "                print(file)\n",
    "\n",
    "        elif type(self.__file) == str:\n",
    "            query = f\"parents = '{folder_id}' and name = '{self.__file}'\"\n",
    "            response = self.service.files().list(q=query).execute()\n",
    "            print(response)\n",
    "        elif type(self.__file) == dict:\n",
    "            for name_item in self.__file:\n",
    "                key_dest = self.__file[name_item]\n",
    "                print(key_dest)\n",
    "# teste=file({'1197769':\"tes\",'1197768':'pá'})"
   ]
  },
  {
   "cell_type": "code",
   "execution_count": 4,
   "metadata": {},
   "outputs": [
    {
     "name": "stdout",
     "output_type": "stream",
     "text": [
      "ERROR\n",
      "the code expected to receive a list with one or more items and the key dest, but received a list with just one element that can not be specified\n",
      "the element is: ['sfawf']\n"
     ]
    },
    {
     "ename": "TypeError",
     "evalue": "file.move_file() missing 1 required positional argument: 'folder_id'",
     "output_type": "error",
     "traceback": [
      "\u001b[1;31m---------------------------------------------------------------------------\u001b[0m",
      "\u001b[1;31mTypeError\u001b[0m                                 Traceback (most recent call last)",
      "Cell \u001b[1;32mIn[4], line 3\u001b[0m\n\u001b[0;32m      1\u001b[0m teste\u001b[39m=\u001b[39mfile([\u001b[39m'\u001b[39m\u001b[39msfawf\u001b[39m\u001b[39m'\u001b[39m])\n\u001b[0;32m      2\u001b[0m teste\u001b[39m.\u001b[39mmove_file(\u001b[39m'\u001b[39m\u001b[39m15oT4oGeFL1_AFoj53FfU781vnULb21y9\u001b[39m\u001b[39m'\u001b[39m)\n\u001b[1;32m----> 3\u001b[0m teste\u001b[39m.\u001b[39;49mmove_file()\n",
      "\u001b[1;31mTypeError\u001b[0m: file.move_file() missing 1 required positional argument: 'folder_id'"
     ]
    }
   ],
   "source": [
    "teste=file(['sfawf'])\n",
    "teste.move_file('15oT4oGeFL1_AFoj53FfU781vnULb21y9')"
   ]
  }
 ],
 "metadata": {
  "kernelspec": {
   "display_name": "Python 3",
   "language": "python",
   "name": "python3"
  },
  "language_info": {
   "codemirror_mode": {
    "name": "ipython",
    "version": 3
   },
   "file_extension": ".py",
   "mimetype": "text/x-python",
   "name": "python",
   "nbconvert_exporter": "python",
   "pygments_lexer": "ipython3",
   "version": "3.10.10"
  },
  "orig_nbformat": 4
 },
 "nbformat": 4,
 "nbformat_minor": 2
}
